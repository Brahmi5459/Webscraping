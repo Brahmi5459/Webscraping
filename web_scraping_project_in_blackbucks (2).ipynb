{
  "nbformat": 4,
  "nbformat_minor": 0,
  "metadata": {
    "colab": {
      "provenance": []
    },
    "kernelspec": {
      "name": "python3",
      "display_name": "Python 3"
    },
    "language_info": {
      "name": "python"
    }
  },
  "cells": [
    {
      "cell_type": "code",
      "source": [
        "import requests\n",
        "from bs4 import BeautifulSoup\n",
        "import pandas as pd\n",
        "from sklearn.model_selection import train_test_split\n",
        "from sklearn.linear_model import LinearRegression\n",
        "from sklearn.metrics import mean_squared_error, r2_score\n",
        "from sklearn.feature_extraction.text import CountVectorizer\n",
        "\n",
        "\n",
        "# Make a GET request to the IMDb website\n",
        "url = 'https://www.imdb.com/search/title/?count=100&groups=top_1000&sort=user_rating'\n",
        "response = requests.get(url)\n",
        "\n",
        "# Parse the HTML content using BeautifulSoup\n",
        "soup = BeautifulSoup(response.content, 'html.parser')\n",
        "\n",
        "# Extract the required data and convert it into a dataframe\n",
        "titles = []\n",
        "ratings = []\n",
        "for movie in soup.find_all('div', class_='lister-item-content'):\n",
        "    title = movie.find('a').text\n",
        "    rating = float(movie.find('strong').text)\n",
        "    titles.append(title)\n",
        "    ratings.append(rating)\n",
        "\n",
        "df = pd.DataFrame({'Title': titles, 'Rating': ratings})\n",
        "\n",
        "# Split the data into training and testing datasets\n",
        "X_train, X_test, y_train, y_test = train_test_split(df['Title'], df['Rating'], test_size=0.2, random_state=42)\n",
        "\n",
        "# Train a linear regression model\n",
        "vectorizer = CountVectorizer().fit(X_train)\n",
        "X_train = vectorizer.transform(X_train)\n",
        "X_test = vectorizer.transform(X_test)\n",
        "model = LinearRegression()\n",
        "model.fit(X_train, y_train)\n",
        "\n",
        "# Make predictions on the testing dataset\n",
        "y_pred = model.predict(X_test)\n",
        "\n",
        "# Print the accuracy of the model\n",
        "print('Mean squared error: %.2f'\n",
        "      % mean_squared_error(y_test, y_pred))\n",
        "print('Coefficient of determination: %.2f'\n",
        "      % r2_score(y_test, y_pred))\n"
      ],
      "metadata": {
        "colab": {
          "base_uri": "https://localhost:8080/"
        },
        "id": "EhoWqUyvCaQd",
        "outputId": "e83590f8-9a6b-4f50-ebca-a754ca05b76f"
      },
      "execution_count": 1,
      "outputs": [
        {
          "output_type": "stream",
          "name": "stdout",
          "text": [
            "Mean squared error: 0.04\n",
            "Coefficient of determination: 0.23\n"
          ]
        }
      ]
    }
  ]
}